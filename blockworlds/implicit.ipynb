{
 "cells": [
  {
   "cell_type": "markdown",
   "metadata": {},
   "source": [
    "# Basic Anti-aliased Geological Models\n",
    "\n",
    "I'm now going to use some of the ideas in the first notebook on anti-aliasing to develop a set of simple parametric geological models that have posteriors we can sample by MCMC.  They'll draw on ideas from several different kinds of models for best results, with what I hope will be structures transparent to both geologists and data scientists.\n",
    "\n",
    "What we found earlier was that it was straightforward to anti-alias interfaces that were defined _implicitly_, by some function $\\phi(\\mathbf{x}) = 0$; the partial volume in a voxel along the interface could be expressed, to a very good approximation, as a function of the normal distance to that interface from the voxel center.  This is similar to the way interfaces are defined in the so-called _implicit_ class of models that include many packages our DARE collaborators are already working with, such as GemPy, GeoModeller, and LoopStructural.  The implicit functions these packages use are more abstract measures of geological time, rather than concrete measures like physical distance.  However, if we show that parametric anti-aliasing can work on simple models like the ones we will develop, it shouldn't be too far a step to technology that can work with real 3-D geological models.\n",
    "\n",
    "One convenient and geologically sensible way to build a volume, though, is by composition, since in cases where multiple interfaces overlap it establishes a clear order of evaluation that resolves any interpretive ambiguities.  This is a feature of _kinematic_ models such as Noddy; LoopStructural also incorporates kinematic elements.\n",
    "\n",
    "Let's first define an infinite-resolution geology as a composition of functions with implicitly defined interfaces; then blur out these interfaces with an anti-aliasing kernel, and evaluate on a grid for geophysics."
   ]
  },
  {
   "cell_type": "code",
   "execution_count": 1,
   "metadata": {},
   "outputs": [
    {
     "name": "stdout",
     "output_type": "stream",
     "text": [
      "z0, L, nL, h = 0.0 1000.0 15 66.66666666666667\n"
     ]
    }
   ],
   "source": [
    "import numpy as np\n",
    "import matplotlib.pyplot as plt\n",
    "from blockworlds import profile_timer, DiscreteGravity\n",
    "from blockworlds import baseline_tensor_mesh, survey_gridded_locations\n",
    "\n",
    "z0, L, NL = 0.0, 1000.0, 15\n",
    "h = L/NL\n",
    "print(\"z0, L, nL, h =\", z0, L, NL, h)\n",
    "mesh = baseline_tensor_mesh(NL, h, centering='CCN')\n",
    "survey = survey_gridded_locations(L, L, 20, 20, z0)"
   ]
  },
  {
   "cell_type": "markdown",
   "metadata": {},
   "source": [
    "I'm going to define a sequence of events here that generates something like the graben model shown in Figures 8 and 9 of Pakyuz-Charrier+ 2018.  This has several horizontal layers and two vertical faults running through them.\n",
    "\n",
    "Each event has its own priors so this will get pedantic pretty quickly, but when each of your arguments has physical dimensions and geometric meaning this is probably where we end up.  I've chosen these to reflect highly certain knowledge of what's going on at the surface with more uncertainty about what's going on underneath, which seems reasonable."
   ]
  },
  {
   "cell_type": "code",
   "execution_count": 2,
   "metadata": {
    "collapsed": true
   },
   "outputs": [],
   "source": [
    "from implicit import GeoHistory, BasementEvent, StratLayerEvent, PlanarFaultEvent\n",
    "from implicit import UniGaussianDist, UniformDist, vMFDist\n",
    "\n",
    "# Define the geology as a list of chained events\n",
    "# I'm forcing us to use keyword arguments everywhere for readability\n",
    "history = GeoHistory()\n",
    "# Basement:  density (g/cc)\n",
    "history.add_event(\n",
    "    BasementEvent(\n",
    "        [('density', UniGaussianDist(mean=3.0, std=0.5))]\n",
    "    )\n",
    ")\n",
    "# Overlying stratigraphic layers:  thicknesses (m) and densities (g/cc)\n",
    "history.add_event(\n",
    "    StratLayerEvent(\n",
    "        [('thickness', UniGaussianDist(mean=350.0, std=50.0)),\n",
    "        ('density', UniGaussianDist(mean=2.5, std=0.1))]\n",
    "    )\n",
    ")\n",
    "history.add_event(\n",
    "    StratLayerEvent(\n",
    "        [('thickness', UniGaussianDist(mean=190.0, std=50.0)),\n",
    "         ('density', UniGaussianDist(mean=2.0, std=0.1))]\n",
    "    )\n",
    ")\n",
    "# Faults:  anchor point r0[x,y,0] (m), normal vector spherical coordinates [theta, phi] (deg), slip (m)\n",
    "history.add_event(\n",
    "    PlanarFaultEvent(\n",
    "        [('x0', UniGaussianDist(mean=-400.0, std=1.0)),\n",
    "         ('y0', UniGaussianDist(mean=0.0, std=1.0)),\n",
    "         ('nth', 'nph', vMFDist(th0=+20.0, ph0=0.0, kappa=50)),\n",
    "         ('s', UniGaussianDist(mean=-220.0, std=150.0))]\n",
    "    )\n",
    ")\n",
    "history.add_event(\n",
    "    PlanarFaultEvent(\n",
    "        [('x0', UniGaussianDist(mean=+400.0, std=1.0)),\n",
    "         ('y0', UniGaussianDist(mean=0.0, std=1.0)),\n",
    "         ('nth', 'nph', vMFDist(th0=-20.0, ph0=0.0, kappa=50)),\n",
    "         ('s', UniGaussianDist(mean=+220.0, std=150.0))]\n",
    "    )\n",
    ")"
   ]
  },
  {
   "cell_type": "code",
   "execution_count": 3,
   "metadata": {},
   "outputs": [
    {
     "name": "stdout",
     "output_type": "stream",
     "text": [
      "history.serialize() = [   2.86178816  369.33648103    2.46685858  194.39541395    2.00555571\n",
      " -401.6163824    -0.49179459   15.41036429    6.92048515 -269.11464532\n",
      "  400.82209922    1.06449649  -15.94224064   -2.31775947  138.80868751]\n",
      "history.serialize() = [   3.   350.     2.5  190.     2.  -400.     0.    20.     0.  -220.\n",
      "  400.     0.   -20.     0.   220. ]\n",
      "calc_gravity ran in 0.867 sec\n",
      "current event: BasementEvent(density=3.0)\n",
      "calc_gravity ran in 0.002 sec\n",
      "current event: StratLayerEvent(thickness=350.0, density=2.5)\n",
      "calc_gravity ran in 0.002 sec\n",
      "current event: StratLayerEvent(thickness=190.0, density=2.0)\n",
      "calc_gravity ran in 0.002 sec\n",
      "current event: PlanarFaultEvent(x0=-400.0, y0=0.0, nth=20.0, nph=0.0, s=-220.0)\n",
      "calc_gravity ran in 0.003 sec\n",
      "current event: PlanarFaultEvent(x0=400.0, y0=0.0, nth=-20.0, nph=0.0, s=220.0)\n",
      "calc_gravity ran in 0.005 sec\n"
     ]
    },
    {
     "data": {
      "image/png": "[encoded data removed]",
      "text/plain": [
       "<Figure size 1080x144 with 10 Axes>"
      ]
     },
     "metadata": {},
     "output_type": "display_data"
    }
   ],
   "source": [
    "histpars = history.serialize()\n",
    "print(\"history.serialize() =\", histpars)\n",
    "\n",
    "# Can also set parameters all at once -- good for running MCMC\n",
    "history.deserialize([3.0, 350.0, 2.5, 190.0, 2.0,\n",
    "                     -400.0, 0.0, +20.0, 0.0, -220.0,\n",
    "                     +400.0, 0.0, -20.0, 0.0, +220.0])\n",
    "histpars = history.serialize()\n",
    "print(\"history.serialize() =\", histpars)\n",
    "\n",
    "# Define the forward model\n",
    "fwdmodel = DiscreteGravity(mesh, survey, history.event_list[0])\n",
    "fwdmodel.gfunc = history.event_list[0].rockprops\n",
    "fwdmodel.edgemask = profile_timer(fwdmodel.calc_gravity, h)\n",
    "# Show a sequence of how the model is built up\n",
    "fig1 = plt.figure(figsize=(15, 2))\n",
    "for m, event in enumerate(history.event_list):\n",
    "    print(\"current event:\", event)\n",
    "    fwdmodel.gfunc = lambda r, h: np.array(event.rockprops(r, h))\n",
    "    profile_timer(fwdmodel.calc_gravity, h)\n",
    "    fwdmodel.fwd_data -= fwdmodel.edgemask * fwdmodel.voxmodel.mean()\n",
    "    ax = plt.subplot(1, 5, m+1)\n",
    "    fwdmodel.plot_model_slice(ax=ax)\n",
    "plt.subplots_adjust(wspace=1.0)\n",
    "plt.show()"
   ]
  },
  {
   "cell_type": "markdown",
   "metadata": {},
   "source": [
    "The `GeoEvent` superclass contains baseline methods for initializing, serializing, and deserializing events to make them easily navigable by an API for abstract MCMC algorithms.  Each of the `GeoEvent` subclasses also contains a `rockprops` method, which for now involves only density but could be expanded to return a whole array of scalar fields of rock properties that respond to sensor.  This method is placed on a call stack for all the previous events, with the resolution proceeding as in the above figure.  Each event perturbs the field of rock properties for the previous geology, so each calls the previous event recursively to find out what it's perturbing.  Finally, each also includes elements of probabilistic models, such as a `log_prior` method that returns a prior density, and specialized MCMC proposals that respect the geological symmetries of the model.\n",
    "\n",
    "Here's a peek at the current code for the `PlanarFaultEvent` class:\n",
    "\n",
    "```\n",
    "class PlanarFaultEvent(GeoEvent):\n",
    "\n",
    "    _attrs = ['x0', 'y0', 'nth', 'nph', 's']\n",
    "\n",
    "    def rockprops(self, r, h):\n",
    "        assert(isinstance(self.previous_event, GeoEvent))\n",
    "        # Point on fault specified in Cartesian coordinates; assume z0 = 0\n",
    "        # since we're probably just including geologically observed faults\n",
    "        r0 = np.array([self.x0, self.y0, 0.0])\n",
    "        # Unit normal to fault (\"polar vector\") specified with\n",
    "        # nth = elevation angle (+90 = +z, -90 = -z)\n",
    "        # nph = azimuthal angle (runs counterclockwise, zero in +x direction)\n",
    "        th, ph = np.radians(self.nth), np.radians(self.nph)\n",
    "        n = [np.cos(th)*np.cos(ph), np.cos(th)*np.sin(ph), np.sin(th)]\n",
    "        # Geology in +n direction slips relative to the background\n",
    "        # Slip is positive in +z direction, in units of meters along the fault\n",
    "        v = np.cross(np.cross([0, 0, 1], n), n)\n",
    "        rdelt = self.s * v/l2norm(v)\n",
    "        g0 = self.previous_event.rockprops(r, h)\n",
    "        g1 = self.previous_event.rockprops(r + rdelt, h)\n",
    "        return soft_if_then(np.dot(r-r0, n), g0, g1, h)\n",
    "```\n",
    "\n",
    "When called, `PlanarFault.rockprops()` first works out the placement and kinematics of the fault; then evaluates the base geology on either side of the fault; and finally performs the anti-aliasing step.  The underlying geological process is always evaluated at full resolution at each stage, and the recursive call structure ensures that each geological feature is evaluated in the correct \"lab frame\" coordinates before anti-aliasing.  Only the voxels along each interface need to be anti-aliased, which helps keep the evaluation quick.\n",
    "\n",
    "Let's scan some posterior slices from these models now:"
   ]
  },
  {
   "cell_type": "code",
   "execution_count": 4,
   "metadata": {
    "collapsed": true
   },
   "outputs": [],
   "source": [
    "from riemann import Sampler, Model\n",
    "from riemann.proposals.randomwalk import AdaptiveMetropolisRandomWalk as AMRW\n",
    "\n",
    "class GeoModel(Model):\n",
    "    \n",
    "    def __init__(self, history, fwdmodel, dsynth, sigdata):\n",
    "        # Set baseline attributes\n",
    "        self.history = history\n",
    "        self.fwdmodel = fwdmodel\n",
    "        self.dsynth = dsynth\n",
    "        self.sigdata = sigdata\n",
    "        # Set forward model to represent history\n",
    "        self.fwdmodel.gfunc = history.rockprops\n",
    "        # Turn full anti-aliasing on; match h to grid resolution\n",
    "        mesh = self.fwdmodel.mesh\n",
    "        self.h = np.exp(np.mean(np.log([mesh.hx, mesh.hy, mesh.hz])))\n",
    "        \n",
    "    def log_likelihood(self, theta):\n",
    "        # Load this parameter vector into the history and calculate gravity\n",
    "        self.history.deserialize(theta)\n",
    "        dpred = fwdmodel.calc_gravity(self.h)\n",
    "        resids = dpred - dsynth\n",
    "        resids = resids - resids.mean()\n",
    "        # Independent Gaussian likelihood with variance sigdata**2\n",
    "        return -0.5*np.sum(resids**2/self.sigdata**2 + np.log(2*np.pi*sigdata**2))\n",
    "\n",
    "    def log_prior(self, theta):\n",
    "        # Load this parameter vector into the history and calculate prior density\n",
    "        self.history.deserialize(theta)\n",
    "        return history.logprior()"
   ]
  },
  {
   "cell_type": "code",
   "execution_count": 5,
   "metadata": {
    "collapsed": true
   },
   "outputs": [],
   "source": [
    "# Make some synthetic data\n",
    "data0 = fwdmodel.calc_gravity(h)\n",
    "np.random.seed(413)\n",
    "sigrel = 0.05\n",
    "sigdata = sigrel*np.std(data0)\n",
    "epsilon = sigdata*np.random.normal(size=data0.shape)\n",
    "dsynth = data0 + epsilon\n",
    "\n",
    "# Generate a GeoModel\n",
    "model = GeoModel(history, fwdmodel, dsynth, sigdata)\n",
    "\n",
    "def run_grid(model, p1_vals, p2_vals, p1_idx, p2_idx):\n",
    "    origpars = model.history.serialize()\n",
    "    grid_vals = [ ]\n",
    "    for p1i in p1_vals:\n",
    "        for p2i in p2_vals:\n",
    "            theta = np.array(origpars)\n",
    "            theta[p1_idx], theta[p2_idx] = p1i, p2i\n",
    "            grid_vals.append([p1i, p2i, model.log_posterior(theta)])\n",
    "    model.history.deserialize(origpars)\n",
    "    grid_vals = np.array(grid_vals).T.reshape(3, len(p1_vals), len(p2_vals))\n",
    "    return grid_vals\n",
    "\n",
    "def show_contours(xg, yg, Lg, p1_vals, p2_vals, p1_0, p2_0):\n",
    "    levels = 10**np.arange(-6,0.1)\n",
    "    levels = np.log(10)*np.arange(-6,0.1)\n",
    "    # plt.contourf(xg, yg, np.exp(Lg - Lg.max()), levels=levels)\n",
    "    plt.contourf(xg, yg, Lg - Lg.max(), levels=levels)\n",
    "    plt.colorbar()\n",
    "    ax = plt.gca()\n",
    "    ax.set_xlim(p1_vals.min(), p1_vals.max())\n",
    "    ax.set_ylim(p2_vals.min(), p2_vals.max())"
   ]
  },
  {
   "cell_type": "code",
   "execution_count": 6,
   "metadata": {
    "collapsed": true
   },
   "outputs": [],
   "source": [
    "def vet_slice(model, z1_idx, z2_idx, zdelt1, zdelt2, Nz):\n",
    "    histpars = np.array(model.history.serialize())\n",
    "    z1_0, z2_0 = histpars[z1_idx], histpars[z2_idx]\n",
    "    z1_vals = np.linspace(z1_0-0.5*zdelt1, z1_0+0.5*zdelt1, Nz)\n",
    "    z2_vals = np.linspace(z2_0-0.5*zdelt2, z2_0+0.5*zdelt2, Nz)\n",
    "    xg, yg, Lg = profile_timer(run_grid, model, z1_vals, z2_vals, z1_idx, z2_idx)\n",
    "    show_contours(xg, yg, Lg, z1_vals, z2_vals, z1_0, z2_0)"
   ]
  },
  {
   "cell_type": "code",
   "execution_count": 7,
   "metadata": {},
   "outputs": [
    {
     "name": "stdout",
     "output_type": "stream",
     "text": [
      "run_grid ran in 4.171 sec\n",
      "run_grid ran in 3.810 sec\n",
      "run_grid ran in 3.651 sec\n"
     ]
    },
    {
     "data": {
      "image/png": "[encoded data removed]",
      "text/plain": [
       "<Figure size 1152x288 with 6 Axes>"
      ]
     },
     "metadata": {},
     "output_type": "display_data"
    }
   ],
   "source": [
    "Nz = 30\n",
    "fig = plt.figure(figsize=(16, 4))\n",
    "plt.subplot(131)\n",
    "vet_slice(model,  1,  3, 600.0, 200.0, Nz)   # widths of layers on top of basement\n",
    "plt.subplot(132)\n",
    "vet_slice(model,  9, 14, 200.0, 200.0, Nz)   # the two fault displacements\n",
    "plt.subplot(133)\n",
    "vet_slice(model,  7, 12,  25.0,  25.0, Nz)   # the two fault elevation angles\n",
    "plt.show()"
   ]
  },
  {
   "cell_type": "markdown",
   "metadata": {},
   "source": [
    "These look very reasonable!  But we can also turn anti-aliasing off, and show what happens:"
   ]
  },
  {
   "cell_type": "code",
   "execution_count": 8,
   "metadata": {},
   "outputs": [
    {
     "name": "stdout",
     "output_type": "stream",
     "text": [
      "run_grid ran in 3.813 sec\n",
      "run_grid ran in 3.504 sec\n",
      "run_grid ran in 3.669 sec\n"
     ]
    },
    {
     "data": {
      "image/png": "[encoded data removed]",
      "text/plain": [
       "<Figure size 1152x288 with 6 Axes>"
      ]
     },
     "metadata": {},
     "output_type": "display_data"
    }
   ],
   "source": [
    "Nz = 30\n",
    "model.h = 0.001*h\n",
    "fig = plt.figure(figsize=(16, 4))\n",
    "plt.subplot(131)\n",
    "vet_slice(model,  1,  3, 600.0, 200.0, Nz)   # widths of layers on top of basement\n",
    "plt.subplot(132)\n",
    "vet_slice(model,  9, 14, 200.0, 200.0, Nz)   # the two fault displacements\n",
    "plt.subplot(133)\n",
    "vet_slice(model,  7, 12,  25.0,  25.0, Nz)   # the two fault elevation angles\n",
    "model.h = h\n",
    "plt.show()"
   ]
  },
  {
   "cell_type": "markdown",
   "metadata": {},
   "source": [
    "## Sampling with Riemann\n",
    "\n",
    "Let's try to sample the posterior of this model now using our home-brewed sampling framework."
   ]
  },
  {
   "cell_type": "code",
   "execution_count": 9,
   "metadata": {},
   "outputs": [
    {
     "name": "stdout",
     "output_type": "stream",
     "text": [
      "run ran in 407.696 sec\n",
      "chain.mean = [ 2.96751991e+00  3.53957982e+02  2.51042893e+00  1.62984378e+02\n",
      "  1.99049250e+00 -3.99993310e+02 -1.74883399e-02  1.81588481e+01\n",
      " -9.07928811e-02 -2.21329054e+02  4.00013145e+02 -3.35915277e-02\n",
      " -1.96611984e+01 -2.38331114e-01  2.07421698e+02]\n",
      "chain.std  = [2.97207513e-01 4.75579176e+01 9.06435601e-02 3.02853768e+01\n",
      " 4.05553555e-02 9.93579038e-01 1.00441729e+00 4.88162211e+00\n",
      " 1.52453977e+00 6.22819165e+01 9.47806346e-01 9.89378968e-01\n",
      " 5.13926402e+00 1.71894431e+00 6.05585946e+01]\n",
      "acceptance fraction = 0.17259\n"
     ]
    }
   ],
   "source": [
    "from riemann import Sampler, Model\n",
    "from riemann.proposals.randomwalk import AdaptiveMetropolisRandomWalk as AMRW\n",
    "\n",
    "Npars = len(histpars)\n",
    "Nsamp = 100000\n",
    "stepsizes = np.array([0.1, 100, 0.01, 100, 0.01,\n",
    "                      1.0, 1.0, 1.0, 1.0, 100,\n",
    "                      1.0, 1.0, 1.0, 1.0, 100])\n",
    "model.history.set_to_prior_draw()\n",
    "proposal = AMRW(0.1*np.diag(stepsizes), 100, marginalize=False)\n",
    "sampler = Sampler(model, proposal, np.array(histpars))\n",
    "profile_timer(sampler.run, Nsamp)\n",
    "chain = np.array(sampler._chain_thetas)\n",
    "model.history.deserialize(sampler._chain_thetas[0])\n",
    "print(\"chain.mean =\", np.mean(chain, axis=0))\n",
    "print(\"chain.std  =\", np.std(chain, axis=0))\n",
    "print(\"acceptance fraction =\", np.mean(chain[1:]-chain[:-1] != 0))"
   ]
  },
  {
   "cell_type": "code",
   "execution_count": 10,
   "metadata": {},
   "outputs": [
    {
     "name": "stdout",
     "output_type": "stream",
     "text": [
      "density           3.0 +/-        0.3\n",
      "thickness       354.0 +/-       47.6\n",
      "density           2.5 +/-        0.1\n",
      "thickness       163.0 +/-       30.3\n",
      "density           2.0 +/-        0.0\n",
      "x0             -400.0 +/-        1.0\n",
      "y0               -0.0 +/-        1.0\n",
      "nth              18.2 +/-        4.9\n",
      "nph              -0.1 +/-        1.5\n",
      "s              -221.3 +/-       62.3\n",
      "x0              400.0 +/-        0.9\n",
      "y0               -0.0 +/-        1.0\n",
      "nth             -19.7 +/-        5.1\n",
      "nph              -0.2 +/-        1.7\n",
      "s               207.4 +/-       60.6\n"
     ]
    }
   ],
   "source": [
    "vnames = np.concatenate([event._pars for event in model.history.event_list])\n",
    "vmean = np.mean(chain, axis=0)\n",
    "vstd = np.std(chain, axis=0)\n",
    "\n",
    "for i in range(len(vnames)):\n",
    "    print(\"{:<10} {:10.1f} +/- {:10.1f}\".format(vnames[i], vmean[i], vstd[i]))"
   ]
  },
  {
   "cell_type": "code",
   "execution_count": 11,
   "metadata": {
    "collapsed": true
   },
   "outputs": [],
   "source": [
    "from scipy.stats import gaussian_kde\n",
    "\n",
    "def vet_slice_2(z1_idx, z2_idx, zdelt1, zdelt2, Nz):\n",
    "    z1_0, z2_0 = histpars[z1_idx], histpars[z2_idx]\n",
    "    z1g = np.linspace(z1_0-0.5*zdelt1, z1_0+0.5*zdelt1, Nz)\n",
    "    z2g = np.linspace(z2_0-0.5*zdelt2, z2_0+0.5*zdelt2, Nz)\n",
    "    x, y = chain[:,z1_idx], chain[:,z2_idx]\n",
    "    xy = np.vstack([x,y])\n",
    "    kde = gaussian_kde(xy)\n",
    "    # th = np.repeat(chain[0,:], len(chain)).reshape(len(chain), -1)\n",
    "    # kde = gaussian_kde(th)\n",
    "    xg, yg = np.meshgrid(z1g, z2g)\n",
    "    xyg = np.array([xg, yg]).reshape(2,-1)\n",
    "    zg = kde(xyg).reshape(xg.shape)\n",
    "    # thg = np.repeat(chain[0,:], len(xg)).reshape(len(xg), -1)\n",
    "    # zg = kde(thg).reshape(xg.shape)\n",
    "    levels = np.log(10)*np.arange(-6,0.1)\n",
    "    plt.contourf(xg, yg, np.log(zg + 1e-12) - np.log(zg.max()), levels=levels)\n",
    "    plt.colorbar()"
   ]
  },
  {
   "cell_type": "code",
   "execution_count": 12,
   "metadata": {},
   "outputs": [
    {
     "data": {
      "image/png": "[encoded data removed]",
      "text/plain": [
       "<Figure size 1152x288 with 6 Axes>"
      ]
     },
     "metadata": {},
     "output_type": "display_data"
    }
   ],
   "source": [
    "Nz = 30\n",
    "fig = plt.figure(figsize=(16, 4))\n",
    "plt.subplot(131)\n",
    "vet_slice_2( 1,  3, 1000.0, 400.0, Nz)   # widths of layers on top of basement\n",
    "plt.subplot(132)\n",
    "vet_slice_2( 9, 14, 500.0, 500.0, Nz)   # the two fault displacements\n",
    "plt.subplot(133)\n",
    "vet_slice_2( 7, 12,  50.0,  50.0, Nz)   # the two fault elevation angles\n",
    "plt.show()"
   ]
  },
  {
   "cell_type": "markdown",
   "metadata": {},
   "source": [
    "This is the _marginal_ posterior (a distribution of samples projected onto the planes shown), while the earlier contour plots were showing the _conditional_ posterior (slices through the posterior with all the other variables fixed).  So it makes sense that they might not look exactly the same.\n",
    "\n"
   ]
  },
  {
   "cell_type": "code",
   "execution_count": 13,
   "metadata": {},
   "outputs": [
    {
     "name": "stdout",
     "output_type": "stream",
     "text": [
      "chain.shape = (100001, 15)\n",
      "tau = [159.73669295]\n",
      "ess = [626.03649889]\n"
     ]
    }
   ],
   "source": [
    "import emcee\n",
    "tau = emcee.autocorr.integrated_time(chain)\n",
    "print(\"chain.shape =\", chain.shape)\n",
    "print(\"tau =\", tau)\n",
    "print(\"ess =\", len(chain)/tau)"
   ]
  },
  {
   "cell_type": "code",
   "execution_count": 14,
   "metadata": {},
   "outputs": [
    {
     "data": {
      "image/png": "[encoded data removed]",
      "text/plain": [
       "<Figure size 1152x432 with 4 Axes>"
      ]
     },
     "metadata": {},
     "output_type": "display_data"
    }
   ],
   "source": [
    "thin = int(tau)\n",
    "r = fwdmodel.mesh.gridCC\n",
    "geoshape = fwdmodel.gfunc(r, h).shape\n",
    "geovox1 = np.zeros(geoshape)\n",
    "geovox2 = np.zeros(geoshape)\n",
    "Nthin = len(chain[::thin])\n",
    "for theta in chain[::thin]:\n",
    "    history.deserialize(theta)\n",
    "    g = fwdmodel.gfunc(r, h)\n",
    "    geovox1 += g\n",
    "    geovox2 += g*g\n",
    "gmu = geovox1/Nthin\n",
    "gvar = geovox2/Nthin - gmu*gmu\n",
    "\n",
    "plt.figure(figsize=(16,6))\n",
    "ax1 = plt.subplot(1,2,1)\n",
    "fwdmodel.voxmodel = gmu\n",
    "fwdmodel.plot_model_slice(ax=ax1)\n",
    "plt.title(\"Slice of block model posterior mean at y = 0 m\")\n",
    "ax2 = plt.subplot(1,2,2)\n",
    "fwdmodel.voxmodel = gvar\n",
    "fwdmodel.plot_model_slice(ax=ax2)\n",
    "plt.title(\"Slice of block model posterior variance at y = 0 m\")\n",
    "plt.show()"
   ]
  },
  {
   "cell_type": "code",
   "execution_count": 40,
   "metadata": {},
   "outputs": [],
   "source": [
    "def gelman_rubin(data):\n",
    "    \"\"\"\n",
    "    Apply Gelman-Rubin convergence diagnostic to a bunch of chains.\n",
    "    :param data: np.array of shape (Nchains, Nsamples, Npars)\n",
    "    \"\"\"\n",
    "    Nchains, Nsamples, Npars = data.shape\n",
    "    B_on_n = data.mean(axis=1).var(axis=0)      # variance of in-chain means\n",
    "    W = data.var(axis=1).mean(axis=0)           # mean of in-chain variances\n",
    "\n",
    "    # simple version, as in Obsidian\n",
    "    sig2 = (Nsamples/(Nsamples-1))*W + B_on_n\n",
    "    Vhat = sig2 + B_on_n/Nchains\n",
    "    Rhat = Vhat/W\n",
    "\n",
    "    # advanced version that accounts for ndof\n",
    "    m, n = np.float(Nchains), np.float(Nsamples)\n",
    "    si2 = data.var(axis=1)\n",
    "    xi_bar = data.mean(axis=1)\n",
    "    xi2_bar = data.mean(axis=1)**2\n",
    "    var_si2 = data.var(axis=1).var(axis=0)\n",
    "    allmean = data.mean(axis=1).mean(axis=0)\n",
    "    cov_term1 = np.array([np.cov(si2[:,i], xi2_bar[:,i])[0,1]\n",
    "                          for i in range(Npars)])\n",
    "    cov_term2 = np.array([-2*allmean[i]*(np.cov(si2[:,i], xi_bar[:,i])[0,1])\n",
    "                          for i in range(Npars)])\n",
    "    var_Vhat = ( ((n-1)/n)**2 * 1.0/m * var_si2\n",
    "             +   ((m+1)/m)**2 * 2.0/(m-1) * B_on_n**2\n",
    "             +   2.0*(m+1)*(n-1)/(m*n**2)\n",
    "                    * n/m * (cov_term1 + cov_term2))\n",
    "    df = 2*Vhat**2 / var_Vhat\n",
    "    print(\"gelman_rubin(): var_Vhat = {}\".format(var_Vhat))\n",
    "    print(\"gelman_rubin(): df = {}\".format(df))\n",
    "    Rhat *= df/(df-2)\n",
    "\n",
    "    return Rhat"
   ]
  },
  {
   "cell_type": "code",
   "execution_count": 48,
   "metadata": {},
   "outputs": [
    {
     "name": "stdout",
     "output_type": "stream",
     "text": [
      "chains.shape = (4, 100001, 15)\n",
      "gelman_rubin(): var_Vhat = [1.80204813e-04 2.56110766e+05 3.46899418e-08 1.04772056e+05\n",
      " 4.62432186e-07 1.39916896e-02 4.49872659e-03 3.42220572e+00\n",
      " 9.17455058e-02 5.89496136e+06 6.75520960e-03 1.21426771e-03\n",
      " 2.57505015e+00 1.43417011e-02 5.17161680e+06]\n",
      "gelman_rubin(): df = [ 183.67950431   47.94664453 4752.54693735   61.77096412   63.15865149\n",
      "  181.07181785  484.54877778  450.61934391  177.47759066   19.07166472\n",
      "  279.27048597 1802.04300508  565.15684854 1439.03930034   23.71167675]\n",
      "gelman_rubin(): Rhat = [1.18449478 1.1682395  1.04697057 1.15681829 1.1212545  1.0285636\n",
      " 1.00576136 1.03364711 1.02208356 1.50767988 1.01040204 1.00166126\n",
      " 1.03147047 1.01220407 1.36115599]\n"
     ]
    }
   ],
   "source": [
    "# Generate four identical chains to calculate Gelman-Rubin from\n",
    "chains_h1 = [ ]\n",
    "Nsamp = 100000\n",
    "for i in range(4):\n",
    "    model.history.set_to_prior_draw()\n",
    "    proposal = AMRW(0.1*np.diag(stepsizes), 100, marginalize=False)\n",
    "    sampler_i = Sampler(model, proposal, np.array(model.history.serialize()))\n",
    "    profile_timer(sampler_i.run, Nsamp)\n",
    "    chains_h1.append(np.array(sampler_i._chain_thetas))\n",
    "chains_h1 = np.array(chains_h1)\n",
    "print(\"chains.shape =\", chains_h1.shape)\n",
    "print(\"gelman_rubin(): Rhat = {}\".format(gelman_rubin(chains_h1)))"
   ]
  },
  {
   "cell_type": "code",
   "execution_count": 47,
   "metadata": {},
   "outputs": [
    {
     "name": "stdout",
     "output_type": "stream",
     "text": [
      "run ran in 370.334 sec\n",
      "run ran in 336.773 sec\n",
      "run ran in 344.359 sec\n",
      "run ran in 341.461 sec\n",
      "chains_h0.shape = (4, 100001, 15)\n",
      "gelman_rubin(): var_Vhat = [1.25376903e-03 3.83100434e+05 1.04067400e-05 2.41144968e+05\n",
      " 3.39291008e-07 4.68894768e-04 1.46406624e-04 8.33937396e+01\n",
      " 9.26751174e-01 3.71635535e+06 2.15053193e-04 3.03284177e-03\n",
      " 3.23195975e+01 2.31960873e-01 1.19049414e+06]\n",
      "gelman_rubin(): df = [   31.38390508    54.93269293    45.07166424    30.68838496\n",
      "    44.04904842  4167.06599536 14102.65347981    42.13839335\n",
      "    33.87918042    40.81489084  8798.87348331   700.28206542\n",
      "    57.4861324    141.13307589    30.03881814]\n",
      "gelman_rubin(): Rhat = [1.11156719 1.10863532 1.33312334 1.31909436 1.1932953  1.01949099\n",
      " 1.00068055 1.20056779 1.07228238 1.23727444 1.00748207 1.04013096\n",
      " 1.09746129 1.02984324 1.12290067]\n"
     ]
    }
   ],
   "source": [
    "chains_h0 = [ ]\n",
    "Nsamp = 100000\n",
    "for i in range(4):\n",
    "    model.h = 0.001*h\n",
    "    model.history.set_to_prior_draw()\n",
    "    proposal = AMRW(0.1*np.diag(stepsizes), 100, marginalize=False)\n",
    "    sampler_i = Sampler(model, proposal, np.array(model.history.serialize()))\n",
    "    profile_timer(sampler_i.run, Nsamp)\n",
    "    model.h = 1.0*h\n",
    "    chains_h0.append(np.array(sampler_i._chain_thetas))\n",
    "chains_h0 = np.array(chains_h0)\n",
    "print(\"chains_h0.shape =\", chains_h0.shape)\n",
    "print(\"gelman_rubin(): Rhat = {}\".format(gelman_rubin(chains_h0)))"
   ]
  },
  {
   "cell_type": "code",
   "execution_count": 49,
   "metadata": {},
   "outputs": [
    {
     "name": "stdout",
     "output_type": "stream",
     "text": [
      "gelman_rubin(): var_Vhat = [1.25376903e-03 3.83100434e+05 1.04067400e-05 2.41144968e+05\n",
      " 3.39291008e-07 4.68894768e-04 1.46406624e-04 8.33937396e+01\n",
      " 9.26751174e-01 3.71635535e+06 2.15053193e-04 3.03284177e-03\n",
      " 3.23195975e+01 2.31960873e-01 1.19049414e+06]\n",
      "gelman_rubin(): df = [   31.38390508    54.93269293    45.07166424    30.68838496\n",
      "    44.04904842  4167.06599536 14102.65347981    42.13839335\n",
      "    33.87918042    40.81489084  8798.87348331   700.28206542\n",
      "    57.4861324    141.13307589    30.03881814]\n",
      "gelman_rubin(): var_Vhat = [1.80204813e-04 2.56110766e+05 3.46899418e-08 1.04772056e+05\n",
      " 4.62432186e-07 1.39916896e-02 4.49872659e-03 3.42220572e+00\n",
      " 9.17455058e-02 5.89496136e+06 6.75520960e-03 1.21426771e-03\n",
      " 2.57505015e+00 1.43417011e-02 5.17161680e+06]\n",
      "gelman_rubin(): df = [ 183.67950431   47.94664453 4752.54693735   61.77096412   63.15865149\n",
      "  181.07181785  484.54877778  450.61934391  177.47759066   19.07166472\n",
      "  279.27048597 1802.04300508  565.15684854 1439.03930034   23.71167675]\n",
      "R0/R1 = [0.93843148 0.94897948 1.27331501 1.14027792 1.06425017 0.99117934\n",
      " 0.9949483  1.1614871  1.04911421 0.82064797 0.99711009 1.0384059\n",
      " 1.06397742 1.01742649 0.82496104]\n"
     ]
    }
   ],
   "source": [
    "print(\"R0/R1 =\", gelman_rubin(chains_h0)/gelman_rubin(chains_h1))"
   ]
  },
  {
   "cell_type": "code",
   "execution_count": 51,
   "metadata": {},
   "outputs": [
    {
     "name": "stdout",
     "output_type": "stream",
     "text": [
      "density           3.0 +/-        0.4          2.9 +/-        0.4\n",
      "thickness       368.2 +/-       56.6        345.3 +/-       49.2\n",
      "density           2.5 +/-        0.1          2.5 +/-        0.1\n",
      "thickness       169.2 +/-       43.0        155.2 +/-       42.0\n",
      "density           2.0 +/-        0.1          2.0 +/-        0.1\n",
      "x0             -399.9 +/-        1.0       -400.0 +/-        1.1\n",
      "y0               -0.0 +/-        1.0          0.0 +/-        1.0\n",
      "nth              19.3 +/-        6.4         18.4 +/-        5.3\n",
      "nph              -0.1 +/-        2.0         -0.2 +/-        1.7\n",
      "s              -239.8 +/-       91.9       -230.5 +/-       84.3\n",
      "x0              400.0 +/-        1.0        400.0 +/-        1.0\n",
      "y0               -0.1 +/-        1.0         -0.0 +/-        1.0\n",
      "nth             -18.8 +/-        5.5        -20.2 +/-        5.2\n",
      "nph              -0.1 +/-        2.0         -0.4 +/-        1.8\n",
      "s               233.0 +/-       64.7        228.6 +/-       86.7\n"
     ]
    }
   ],
   "source": [
    "vmean_h0 = np.mean(chains_h0.reshape(-1, len(vnames)), axis=0)\n",
    "vstd_h0 = np.std(chains_h0.reshape(-1, len(vnames)), axis=0)\n",
    "vmean_h1 = np.mean(chains_h1.reshape(-1, len(vnames)), axis=0)\n",
    "vstd_h1 = np.std(chains_h1.reshape(-1, len(vnames)), axis=0)\n",
    "\n",
    "for i in range(len(vnames)):\n",
    "    print(\"{:<10} {:10.1f} +/- {:10.1f}   {:10.1f} +/- {:10.1f}\"\n",
    "          .format(vnames[i], vmean_h0[i], vstd_h0[i], vmean_h1[i], vstd_h1[i]))"
   ]
  },
  {
   "cell_type": "code",
   "execution_count": null,
   "metadata": {
    "collapsed": true
   },
   "outputs": [],
   "source": []
  }
 ],
 "metadata": {
  "kernelspec": {
   "display_name": "Python 3",
   "language": "python",
   "name": "python3"
  },
  "language_info": {
   "codemirror_mode": {
    "name": "ipython",
    "version": 3
   },
   "file_extension": ".py",
   "mimetype": "text/x-python",
   "name": "python",
   "nbconvert_exporter": "python",
   "pygments_lexer": "ipython3",
   "version": "3.6.2"
  }
 },
 "nbformat": 4,
 "nbformat_minor": 2
}
